{
  "nbformat": 4,
  "nbformat_minor": 0,
  "metadata": {
    "colab": {
      "provenance": []
    },
    "kernelspec": {
      "name": "python3",
      "display_name": "Python 3"
    },
    "language_info": {
      "name": "python"
    }
  },
  "cells": [
    {
      "cell_type": "code",
      "execution_count": null,
      "metadata": {
        "id": "fvm04IaVKXHC"
      },
      "outputs": [],
      "source": [
        "#Oops"
      ]
    },
    {
      "cell_type": "markdown",
      "source": [
        " 1. What is Object-Oriented Programming (OOP)?\n",
        " - Object-oriented programming (OOP) is a programming style that organizes software around objects, rather than functions and logic.\n",
        "\n",
        "2. What is a class in OOP?\n",
        "- In object-oriented programming (OOP), a class is a template for creating objects.\n",
        "- It defines the shared characteristics of objects, such as their state and behavior.\n",
        "\n",
        "3.  What is an object in OOP?\n",
        "- In object-oriented programming (OOP), an object is a unit of code that represents a part of a program.\n",
        "- Objects are the basic building blocks of OOP, and are used to model a system as a collection of interacting parts.\n",
        "\n",
        "4. What is the difference between abstraction and encapsulation?\n",
        "- Abstraction and encapsulation are both programming concepts that hide details to simplify complexity and improve efficiency.\n",
        "- Abstraction focuses on what an object does, while encapsulation focuses on how an object's data is accessed.\n",
        "\n",
        "5. What are dunder methods in Python?\n",
        "- Dunder method or special method are the methods defined by built in classes in python.\n",
        "- Classes define these type of methods for creating custom objects\n",
        "\n",
        "6. Explain the concept of inheritance in OOP?\n",
        "- Inheritance in object-oriented programming (OOP) is the process of creating a new class based on an existing class.\n",
        "- The new class, called a subclass or derived class, inherits the properties and behaviors of the existing class, called the superclass or parent class.\n",
        "\n",
        "7. What is polymorphism in OOP?\n",
        "- Polymorphism in object-oriented programming (OOP) is the ability of an entity to have more than one form.\n",
        "- It allows a single interface to be used for different types of data, and for different objects to respond differently to the same message.\n",
        "\n",
        "8. How is encapsulation achieved in Python?\n",
        "- Encapsulation in Python is achieved by using access modifiers to limit access to a class's variables and methods.\n",
        "- This is done by bundling the data and methods into a single unit, or class.\n",
        "\n",
        "9. What is a constructor in Python?\n",
        "- A constructor in Python is a special method that creates and initializes an object of a class.\n",
        "- It's automatically called when an object is created.\n",
        "\n",
        "10. What are class and static methods in Python?\n",
        "- A class method can access or modify the class state while a static method can't access or modify it.\n",
        "- In general, static methods know nothing about the class state.\n",
        "- They are utility-type methods that take some parameters and work upon those parameters.\n",
        "- On the other hand class methods must have class as a parameter.\n",
        "\n",
        "11. What is method overloading in Python?\n",
        "- Method overloading in Python is the process of calling a single method in multiple ways.\n",
        "- This is done by using different parameters or argument lists.\n",
        "\n",
        "12. What is method overriding in OOP?\n",
        "- Method overriding in object-oriented programming (OOP) is when a subclass redefines a method that is already defined in its superclass.\n",
        "- This allows developers to customize the behavior of methods without changing the parent class's code.\n",
        "\n",
        "13. What is a property decorator in Python?\n",
        "- The Python property decorator makes attributes in a class act like read-only properties.\n",
        "- Essentially, it lets you access methods as if they were attributes, without needing to write parentheses.\n",
        "\n",
        "14. Why is polymorphism important in OOP?\n",
        "- Polymorphism is an important feature of object-oriented programming (OOP) because it allows programmers to write more efficient code that is easier to maintain and extend.\n",
        "\n",
        "15. What is an abstract class in Python?\n",
        "- An abstract class in Python is a class that can't be instantiated on its own, but instead serves as a blueprint for other classes.\n",
        "- Abstract classes are created using the abc (Abstract Base Classes) module.\n",
        "\n",
        "16. What are the advantages of OOP?\n",
        "- It allows developers to divide a complex software system into small, manageable objects.\n",
        "- Each object is responsible for a specific function. They can develop, test, and maintain these self-contained units independently.\n",
        "\n",
        "17. What is the difference between a class variable and an instance variable?\n",
        "- Class variable\n",
        "    - A variable that is defined at the class level and shared by all instances of the class. This means that only one copy of the variable exists, regardless of how many instances of the class there are.\n",
        "- Instance variable\n",
        "     - A variable that is defined at the object level and has its own copy for each instance of the class.\n",
        "\n",
        "18. What is multiple inheritance in Python?\n",
        "- Multiple inheritance in Python is when a class inherits properties from more than one parent class.\n",
        "- This is useful when a subclass needs to combine features from multiple contracts.\n",
        "\n",
        "19. Explain the purpose of ‘’__str__’ and ‘__repr__’ ‘ methods in Python.\n",
        "- In Python, the __str__ method is used to provide a human-readable, user-friendly string representation of an object, typically for printing to the console, while __repr__ aims to provide a more detailed, unambiguous representation of an object, primarily used for debugging and development purposes, where the goal is to accurately recreate the object if needed; essentially, __str__ is for users, and __repr__ is for developers.\n",
        "\n",
        "20. What is the significance of the ‘super()’ function in Python?\n",
        "- The super() function in Python is used to call methods from a parent class within a child class. It is especially useful in inheritance to avoid explicitly referencing the parent class, making the code more maintainable and flexible.\n",
        "\n",
        "21. What is the significance of the __del__ method in Python?\n",
        "- __del__ is a finalizer. It is called when an object is garbage collected which happens at some point after all references to the object have been deleted.\n",
        "- In a simple case this could be right after you say del x or, if x is a local variable, after the function ends.\n",
        "\n",
        "22. What is the difference between @staticmethod and @classmethod in Python?\n",
        "- The Difference between Class Method and Static method is stated below.\n",
        "- While a static method requires no specific parameters, a class method takes cls as its first argument.\n",
        "- While a static method cannot access or modify the class state, a class method can.\n",
        "- Static methods are typically unaware of the class state.\n",
        "\n",
        "23. How does polymorphism work in Python with inheritance?\n",
        "- olymorphism in Python allows objects of different classes to be treated as instances of a common parent class.\n",
        "- This is useful when a method is defined in a parent class but behaves differently in derived classes.\n",
        "- It is primarily achieved through method overriding when a child class redefines a method inherited from a parent class.\n",
        "\n",
        "24. What is method chaining in Python OOP?\n",
        "- Method chaining is a powerful technique in Python programming that allows us to call multiple methods on an object in a single, continuous line of code.\n",
        "- This approach makes the code cleaner, more readable, and often easier to maintain.\n",
        "\n",
        "25. What is the purpose of the __call__ method in Python?\n",
        "- __call__() is to turn your instances into callable objects.\n",
        "-  In other words, its purpose is to create objects that you can call as you would call a regular function. Most Python classes don't implement this method. - Your custom classes will have it only if you need to use your instances as functions."
      ],
      "metadata": {
        "id": "Hjzead-WMOAd"
      }
    },
    {
      "cell_type": "code",
      "source": [
        "# 1. Create a parent class Animal with a method speak() that prints a generic message. Create a child class Dog\n",
        "#that overrides the speak() method to print \"Bark!\".\n",
        "\n",
        "class Animal:\n",
        "    def speak(self):\n",
        "        print(\"Some generic animal sound\")\n",
        "\n",
        "class Dog(Animal):\n",
        "    def speak(self):\n",
        "        print(\"Bark!\")\n",
        "\n",
        "animal = Animal()\n",
        "dog = Dog()\n",
        "\n",
        "animal.speak()\n",
        "dog.speak()\n"
      ],
      "metadata": {
        "colab": {
          "base_uri": "https://localhost:8080/"
        },
        "id": "lZpfSoad5hTa",
        "outputId": "32bf404f-f3e8-42c6-b55d-624d51c1016a"
      },
      "execution_count": null,
      "outputs": [
        {
          "output_type": "stream",
          "name": "stdout",
          "text": [
            "Some generic animal sound\n",
            "Bark!\n"
          ]
        }
      ]
    },
    {
      "cell_type": "code",
      "source": [
        "\n",
        "#2. Write a program to create an abstract class Shape with a method area(). Derive classes Circle and Rectangle\n",
        "#from it and implement the area() method in both.\n",
        "\n",
        "from abc import ABC, abstractmethod\n",
        "\n",
        "\n",
        "class Shape(ABC):\n",
        "    @abstractmethod\n",
        "    def area(self):\n",
        "        pass\n",
        "class Circle(Shape):\n",
        "    def __init__(self, radius):\n",
        "        self.radius = radius\n",
        "\n",
        "    def area(self):\n",
        "        return 3.14 * self.radius * self.radius\n",
        "\n",
        "\n",
        "class Rectangle(Shape):\n",
        "    def __init__(self, length, width):\n",
        "        self.length = length\n",
        "        self.width = width\n",
        "\n",
        "    def area(self):\n",
        "        return self.length * self.width\n",
        "\n",
        "\n",
        "circle = Circle(5)\n",
        "rectangle = Rectangle(7, 9)\n",
        "\n",
        "\n",
        "print(f\"Circle Area: {circle.area()}\")\n",
        "print(f\"Rectangle Area: {rectangle.area()}\")"
      ],
      "metadata": {
        "colab": {
          "base_uri": "https://localhost:8080/"
        },
        "id": "zbTZaWr67e2b",
        "outputId": "a39b69fa-0e82-4d6c-c85f-318a885d838b"
      },
      "execution_count": null,
      "outputs": [
        {
          "output_type": "stream",
          "name": "stdout",
          "text": [
            "Circle Area: 78.5\n",
            "Rectangle Area: 63\n"
          ]
        }
      ]
    },
    {
      "cell_type": "code",
      "source": [
        "#3. Implement a multi-level inheritance scenario where a class Vehicle has an attribute type. Derive a class Car\n",
        "#and further derive a class ElectricCar that adds a battery attribute.\n",
        "\n",
        "class Vehicle:\n",
        "    def __init__(self, vehicle_type):\n",
        "        self.vehicle_type = vehicle_type\n",
        "\n",
        "class Car(Vehicle):\n",
        "    def __init__(self, vehicle_type, brand):\n",
        "        super().__init__(vehicle_type)\n",
        "        self.brand = brand\n",
        "\n",
        "class ElectricCar(Car):\n",
        "    def __init__(self, vehicle_type, brand, battery_capacity):\n",
        "        super().__init__(vehicle_type, brand)\n",
        "        self.battery_capacity = battery_capacity\n",
        "\n",
        "    def display_info(self):\n",
        "        print(f\"Vehicle Type: {self.vehicle_type}\")\n",
        "        print(f\"Brand: {self.brand}\")\n",
        "        print(f\"Battery Capacity: {self.battery_capacity} kWh\")\n",
        "\n",
        "\n",
        "tata = ElectricCar(\"Car\", \"Tata\", 100)\n",
        "tata.display_info()"
      ],
      "metadata": {
        "colab": {
          "base_uri": "https://localhost:8080/"
        },
        "id": "YLEJkWrR9VfR",
        "outputId": "0c6c1b0e-9c2e-4aae-d7df-6c3501dcec0f"
      },
      "execution_count": null,
      "outputs": [
        {
          "output_type": "stream",
          "name": "stdout",
          "text": [
            "Vehicle Type: Car\n",
            "Brand: Tata\n",
            "Battery Capacity: 100 kWh\n"
          ]
        }
      ]
    },
    {
      "cell_type": "code",
      "source": [
        "#4. Implement a multi-level inheritance scenario where a class Vehicle has an attribute type. Derive a class Car\n",
        "#and further derive a class ElectricCar that adds a battery attribute.\n",
        "\n",
        "class Vehicle:\n",
        "    def __init__(self, vehicle_type):\n",
        "        self.vehicle_type = vehicle_type\n",
        "\n",
        "class Car(Vehicle):\n",
        "    def __init__(self, vehicle_type, brand):\n",
        "        super().__init__(vehicle_type)\n",
        "        self.brand = brand\n",
        "\n",
        "class ElectricCar(Car):\n",
        "    def __init__(self, vehicle_type, brand, battery_capacity):\n",
        "        super().__init__(vehicle_type, brand)\n",
        "        self.battery_capacity = battery_capacity\n",
        "\n",
        "    def display_info(self):\n",
        "        print(f\"Vehicle Type: {self.vehicle_type}\")\n",
        "        print(f\"Brand: {self.brand}\")\n",
        "        print(f\"Battery Capacity: {self.battery_capacity} kWh\")\n",
        "\n",
        "\n",
        "tata = ElectricCar(\"Car\", \"Tata\", 100)\n",
        "tata.display_info()\n",
        "\n"
      ],
      "metadata": {
        "colab": {
          "base_uri": "https://localhost:8080/"
        },
        "id": "nmsJ78jP-zlU",
        "outputId": "f7cca1d7-4de2-4968-f9a6-c5dcc81e2b53"
      },
      "execution_count": null,
      "outputs": [
        {
          "output_type": "stream",
          "name": "stdout",
          "text": [
            "Vehicle Type: Car\n",
            "Brand: Tata\n",
            "Battery Capacity: 100 kWh\n"
          ]
        }
      ]
    },
    {
      "cell_type": "code",
      "source": [
        "\n",
        "#5. Write a program to demonstrate encapsulation by creating a class BankAccount with private attributes\n",
        "#balance and methods to deposit, withdraw, and check balance.\n",
        "\n",
        "class BankAccount:\n",
        "    def __init__(self, account_holder, initial_balance=0):\n",
        "        self.account_holder = account_holder\n",
        "        self.__balance = initial_balance\n",
        "    def deposit(self, amount):\n",
        "        if amount > 0:\n",
        "            self.__balance += amount\n",
        "            print(f\"Deposited ${amount}. New balance: ${self.__balance}\")\n",
        "        else:\n",
        "            print(\"Deposit amount must be positive.\")\n",
        "    def withdraw(self, amount):\n",
        "        if 0 < amount <= self.__balance:\n",
        "            self.__balance -= amount\n",
        "            print(f\"Withdrew ${amount}. Remaining balance: ${self.__balance}\")\n",
        "        else:\n",
        "            print(\"Insufficient balance or invalid amount.\")\n",
        "    def get_balance(self):\n",
        "        return self.__balance\n",
        "account = BankAccount(\"Alice\", 10000)\n",
        "account.deposit(50000)\n",
        "account.withdraw(1000)\n",
        "print(f\"Current balance: ${account.get_balance()}\")"
      ],
      "metadata": {
        "colab": {
          "base_uri": "https://localhost:8080/"
        },
        "id": "LBP6Kh07ATsX",
        "outputId": "226dac63-3636-4cea-a0dc-e26c0d936af7"
      },
      "execution_count": null,
      "outputs": [
        {
          "output_type": "stream",
          "name": "stdout",
          "text": [
            "Deposited $50000. New balance: $60000\n",
            "Withdrew $1000. Remaining balance: $59000\n",
            "Current balance: $59000\n"
          ]
        }
      ]
    },
    {
      "cell_type": "code",
      "source": [
        "\n",
        "#6. Demonstrate runtime polymorphism using a method play() in a base class Instrument. Derive classes Guitar\n",
        "#and Piano that implement their own version of play().\n",
        "\n",
        "class Instrument:\n",
        "    def play(self):\n",
        "        print(\"Playing an instrument\")\n",
        "class Guitar(Instrument):\n",
        "    def play(self):\n",
        "        print(\"Playing the guitar\")\n",
        "class Piano(Instrument):\n",
        "    def play(self):\n",
        "        print(\"Playing the piano \")\n",
        "def music(instrument):\n",
        "    instrument.play()\n",
        "guitar = Guitar()\n",
        "piano = Piano()\n",
        "music(guitar)\n",
        "music(piano)"
      ],
      "metadata": {
        "colab": {
          "base_uri": "https://localhost:8080/"
        },
        "id": "fEw9cpOIBsz-",
        "outputId": "6ce5f66c-0d32-467a-acf3-bff435e5614a"
      },
      "execution_count": null,
      "outputs": [
        {
          "output_type": "stream",
          "name": "stdout",
          "text": [
            "Playing the guitar\n",
            "Playing the piano \n"
          ]
        }
      ]
    },
    {
      "cell_type": "code",
      "source": [
        "\n",
        "#7. Create a class MathOperations with a class method add_numbers() to add two numbers and a static\n",
        "#method subtract_numbers() to subtract two numbers.\n",
        "class MathOperations:\n",
        "    @classmethod\n",
        "    def add_numbers(cls, a, b):\n",
        "        return a + b\n",
        "    @staticmethod\n",
        "    def subtract_numbers(a, b):\n",
        "        return a - b\n",
        "sum_result = MathOperations.add_numbers(100, 75)\n",
        "print(f\"Sum: {sum_result}\")\n",
        "diff_result = MathOperations.subtract_numbers(100, 20)\n",
        "print(f\"Difference: {diff_result}\")"
      ],
      "metadata": {
        "colab": {
          "base_uri": "https://localhost:8080/"
        },
        "id": "ep4ons7uC-5H",
        "outputId": "263a4336-7bb4-4aa2-d4a6-a5464bc9f3e7"
      },
      "execution_count": null,
      "outputs": [
        {
          "output_type": "stream",
          "name": "stdout",
          "text": [
            "Sum: 175\n",
            "Difference: 80\n"
          ]
        }
      ]
    },
    {
      "cell_type": "code",
      "source": [
        "#8. Implement a class Person with a class method to count the total number of persons created.\n",
        "\n",
        "class Person:\n",
        "    count = 0\n",
        "    def __init__(self, name):\n",
        "        self.name = name\n",
        "        Person.count += 1\n",
        "    @classmethod\n",
        "    def total_persons(cls):\n",
        "        return cls.count\n",
        "person1 = Person(\"Anand\")\n",
        "person2 = Person(\"Anu\")\n",
        "person3 = Person(\"Priya\")\n",
        "person4 = Person(\"Durga\")\n",
        "person5 = Person(\"Mamta\")\n",
        "print(f\"Total persons created: {Person.total_persons()}\")"
      ],
      "metadata": {
        "colab": {
          "base_uri": "https://localhost:8080/"
        },
        "id": "kJ9z9ZGoE3yK",
        "outputId": "a681744f-aa46-46dd-a644-e9e222fac709"
      },
      "execution_count": null,
      "outputs": [
        {
          "output_type": "stream",
          "name": "stdout",
          "text": [
            "Total persons created: 5\n"
          ]
        }
      ]
    },
    {
      "cell_type": "code",
      "source": [
        "#9. Write a class Fraction with attributes numerator and denominator. Override the str method to display the\n",
        "#fraction as \"numerator/denominator\".\n",
        "class Fraction:\n",
        "    def __init__(self, numerator, denominator):\n",
        "        self.numerator = numerator\n",
        "        self.denominator = denominator\n",
        "    def __str__(self):\n",
        "        return f\"{self.numerator}/{self.denominator}\"\n",
        "fraction1 = Fraction(7, 4)\n",
        "fraction2 = Fraction(5, 7)\n",
        "print(fraction1)\n",
        "print(fraction2)"
      ],
      "metadata": {
        "colab": {
          "base_uri": "https://localhost:8080/"
        },
        "id": "zDaJ0obeGeiP",
        "outputId": "d2ead5dc-6193-4632-da62-3a9871b484ac"
      },
      "execution_count": null,
      "outputs": [
        {
          "output_type": "stream",
          "name": "stdout",
          "text": [
            "7/4\n",
            "5/7\n"
          ]
        }
      ]
    },
    {
      "cell_type": "code",
      "source": [
        "#10. Demonstrate operator overloading by creating a class Vector and overriding the add method to add two\n",
        "#vectors.\n",
        "class Vector:\n",
        "    def __init__(self, x, y):\n",
        "        self.x = x\n",
        "        self.y = y\n",
        "    def __add__(self, other):\n",
        "        return Vector(self.x + other.x, self.y + other.y)\n",
        "    def __str__(self):\n",
        "        return f\"({self.x}, {self.y})\"\n",
        "vector1 = Vector(88, 36)\n",
        "vector2 = Vector(49, 67)\n",
        "result = vector1 + vector2\n",
        "print(f\"Vector1: {vector1}\")\n",
        "print(f\"Vector2: {vector2}\")\n",
        "print(f\"Result: {result}\")"
      ],
      "metadata": {
        "colab": {
          "base_uri": "https://localhost:8080/"
        },
        "id": "MtfIUfSeH43W",
        "outputId": "5109d2cd-aa25-4264-f2f0-bc066a083461"
      },
      "execution_count": null,
      "outputs": [
        {
          "output_type": "stream",
          "name": "stdout",
          "text": [
            "Vector1: (88, 36)\n",
            "Vector2: (49, 67)\n",
            "Result: (137, 103)\n"
          ]
        }
      ]
    },
    {
      "cell_type": "code",
      "source": [
        "#11. Create a class Person with attributes name and age. Add a method greet() that prints \"Hello, my name is\n",
        "#{name} and I am {age} years old.\"\n",
        "class Person:\n",
        "    def __init__(self, name, age):\n",
        "        self.name = name\n",
        "        self.age = age\n",
        "    def greet(self):\n",
        "        print(f\"Hello, my name is {self.name} and I am {self.age} years old.\")\n",
        "person1 = Person(\"Anand\", 62)\n",
        "person2 = Person(\"Anu\", 79)\n",
        "person1.greet()\n",
        "person2.greet()"
      ],
      "metadata": {
        "colab": {
          "base_uri": "https://localhost:8080/"
        },
        "id": "tqYzR6g7SziL",
        "outputId": "48a6b6a2-551c-4b95-82b4-ec13558e9a96"
      },
      "execution_count": null,
      "outputs": [
        {
          "output_type": "stream",
          "name": "stdout",
          "text": [
            "Hello, my name is Anand and I am 62 years old.\n",
            "Hello, my name is Anu and I am 79 years old.\n"
          ]
        }
      ]
    },
    {
      "cell_type": "code",
      "source": [
        "#12. Implement a class Student with attributes name and grades. Create a method average_grade() to compute\n",
        "#the average of the grades.\n",
        "class Student:\n",
        "    def __init__(self, name, grades):\n",
        "        self.name = name\n",
        "        self.grades = grades\n",
        "    def average_grade(self):\n",
        "        if len(self.grades) > 0:\n",
        "            return sum(self.grades) / len(self.grades)\n",
        "        else:\n",
        "            return 0\n",
        "student1 = Student(\"Anand\", [90, 85, 88, 92])\n",
        "student2 = Student(\"Anu\", [75, 80, 72, 68])\n",
        "print(f\"{student1.name}'s average grade: {student1.average_grade()}\")\n",
        "print(f\"{student2.name}'s average grade: {student2.average_grade()}\")"
      ],
      "metadata": {
        "colab": {
          "base_uri": "https://localhost:8080/"
        },
        "id": "H-wjhXsZTZDY",
        "outputId": "aa64cc76-6e93-4fde-ad5c-7d3df0a7200d"
      },
      "execution_count": null,
      "outputs": [
        {
          "output_type": "stream",
          "name": "stdout",
          "text": [
            "Anand's average grade: 88.75\n",
            "Anu's average grade: 73.75\n"
          ]
        }
      ]
    },
    {
      "cell_type": "code",
      "source": [
        "#13. Create a class Rectangle with methods set_dimensions() to set the dimensions and area() to calculate the\n",
        "#area.\n",
        "class Rectangle:\n",
        "    def __init__(self):\n",
        "        self.length = 0\n",
        "        self.width = 0\n",
        "    def set_dimensions(self, length, width):\n",
        "        self.length = length\n",
        "        self.width = width\n",
        "    def area(self):\n",
        "        return self.length * self.width\n",
        "rect = Rectangle()\n",
        "rect.set_dimensions(72, 67)\n",
        "print(f\"The area of the rectangle is: {rect.area()}\")"
      ],
      "metadata": {
        "colab": {
          "base_uri": "https://localhost:8080/"
        },
        "id": "x2N0dpYcULTM",
        "outputId": "4f9a6baf-bff5-4f1f-dfb0-8e8a3b3002f0"
      },
      "execution_count": null,
      "outputs": [
        {
          "output_type": "stream",
          "name": "stdout",
          "text": [
            "The area of the rectangle is: 4824\n"
          ]
        }
      ]
    },
    {
      "cell_type": "code",
      "source": [
        "#14. Create a class Employee with a method calculate_salary() that computes the salary based on hours worked\n",
        "#and hourly rate. Create a derived class Manager that adds a bonus to the salary\n",
        "\n",
        "class Employee:\n",
        "    def __init__(self, name, hours_worked, hourly_rate):\n",
        "        self.name = name\n",
        "        self.hours_worked = hours_worked\n",
        "        self.hourly_rate = hourly_rate\n",
        "    def calculate_salary(self):\n",
        "        return self.hours_worked * self.hourly_rate\n",
        "class Manager(Employee):\n",
        "    def __init__(self, name, hours_worked, hourly_rate, bonus):\n",
        "        super().__init__(name, hours_worked, hourly_rate)\n",
        "        self.bonus = bonus\n",
        "    def calculate_salary(self):\n",
        "        base_salary = super().calculate_salary()\n",
        "        return base_salary + self.bonus\n",
        "employee = Employee(\"Anand\",35, 77)\n",
        "manager = Manager(\"Anu\", 22, 47, 1000)\n",
        "print(f\"{employee.name}'s salary: ${employee.calculate_salary()}\")\n",
        "print(f\"{manager.name}'s salary (with bonus): ${manager.calculate_salary()}\")"
      ],
      "metadata": {
        "colab": {
          "base_uri": "https://localhost:8080/"
        },
        "id": "CCNXw4EvU2oJ",
        "outputId": "f5e85f05-b41d-4efe-f01c-864f3e26310e"
      },
      "execution_count": null,
      "outputs": [
        {
          "output_type": "stream",
          "name": "stdout",
          "text": [
            "Anand's salary: $2695\n",
            "Anu's salary (with bonus): $2034\n"
          ]
        }
      ]
    },
    {
      "cell_type": "code",
      "source": [
        "#15. Create a class Product with attributes name, price, and quantity. Implement a method total_price() that\n",
        "#calculates the total price of the product.\n",
        "class Product:\n",
        "    def __init__(self, name, price, quantity):\n",
        "        self.name = name\n",
        "        self.price = price\n",
        "        self.quantity = quantity\n",
        "\n",
        "    def total_price(self):\n",
        "        return self.price * self.quantity\n",
        "product = Product(\"Laptop\", 20000, 5)\n",
        "print(f\"Total price of {product.name}: ${product.total_price()}\")"
      ],
      "metadata": {
        "colab": {
          "base_uri": "https://localhost:8080/"
        },
        "id": "03dfk0H05UNp",
        "outputId": "80eb0adf-ac2d-4fc4-970f-2ad881f50e3d"
      },
      "execution_count": null,
      "outputs": [
        {
          "output_type": "stream",
          "name": "stdout",
          "text": [
            "Total price of Laptop: $100000\n"
          ]
        }
      ]
    },
    {
      "cell_type": "code",
      "source": [
        "#16. Create a class Animal with an abstract method sound(). Create two derived classes Cow and Sheep that\n",
        "#implement the sound() method.\n",
        "from abc import ABC, abstractmethod\n",
        "class Animal(ABC):\n",
        "    @abstractmethod\n",
        "    def sound(self):\n",
        "        pass\n",
        "class Cow(Animal):\n",
        "    def sound(self):\n",
        "        return \"Moo\"\n",
        "class Sheep(Animal):\n",
        "    def sound(self):\n",
        "        return \"Baa\"\n",
        "cow = Cow()\n",
        "sheep = Sheep()\n",
        "print(f\"Cow sound: {cow.sound()}\")\n",
        "print(f\"Sheep sound: {sheep.sound()}\")"
      ],
      "metadata": {
        "colab": {
          "base_uri": "https://localhost:8080/"
        },
        "id": "WnlEYRXPWeCk",
        "outputId": "f5516dad-1f30-4159-9606-291d00da4f10"
      },
      "execution_count": null,
      "outputs": [
        {
          "output_type": "stream",
          "name": "stdout",
          "text": [
            "Cow sound: Moo\n",
            "Sheep sound: Baa\n"
          ]
        }
      ]
    },
    {
      "cell_type": "code",
      "source": [
        "#17. Create a class Book with attributes title, author, and year_published. Add a method get_book_info() that\n",
        "#returns a formatted string with the book's details.\n",
        "class Book:\n",
        "    def __init__(self, title, author, year_published):\n",
        "        self.title = title\n",
        "        self.author = author\n",
        "        self.year_published = year_published\n",
        "    def get_book_info(self):\n",
        "        return f\"Title: {self.title}\\nAuthor: {self.author}\\nYear Published: {self.year_published}\"\n",
        "book = Book(\"Iron man\", \"Robert Stark\", 2010)\n",
        "print(book.get_book_info())"
      ],
      "metadata": {
        "colab": {
          "base_uri": "https://localhost:8080/"
        },
        "id": "L7lgbJjNXMUT",
        "outputId": "aab99d39-0c25-4930-d8a0-8732369075c8"
      },
      "execution_count": null,
      "outputs": [
        {
          "output_type": "stream",
          "name": "stdout",
          "text": [
            "Title: Iron man\n",
            "Author: Robert Stark\n",
            "Year Published: 2010\n"
          ]
        }
      ]
    },
    {
      "cell_type": "code",
      "source": [
        "#18. Create a class House with attributes address and price. Create a derived class Mansion that adds an\n",
        "#attribute number_of_rooms\n",
        "class House:\n",
        "    def __init__(self, address, price):\n",
        "        self.address = address\n",
        "        self.price = price\n",
        "    def display_details(self):\n",
        "        return f\"Address: {self.address}\\nPrice: ${self.price}\"\n",
        "class Mansion(House):\n",
        "    def __init__(self, address, price, number_of_rooms):\n",
        "        super().__init__(address, price)\n",
        "        self.number_of_rooms = number_of_rooms\n",
        "    def display_details(self):\n",
        "        base_details = super().display_details()\n",
        "        return f\"{base_details}\\nNumber of Rooms: {self.number_of_rooms}\"\n",
        "house = House(\"123 Elm St, Springfield\", 250000)\n",
        "mansion = Mansion(\"456 Oak Ave, Beverly Hills\", 5000000, 10)\n",
        "print(\"House Details:\")\n",
        "print(house.display_details())\n",
        "\n",
        "print(\"\\nMansion Details:\")\n",
        "print(mansion.display_details())"
      ],
      "metadata": {
        "colab": {
          "base_uri": "https://localhost:8080/"
        },
        "id": "uWQ5lHcB5a6S",
        "outputId": "745445b3-2a58-42e3-c42a-1d60d04dc92d"
      },
      "execution_count": null,
      "outputs": [
        {
          "output_type": "stream",
          "name": "stdout",
          "text": [
            "House Details:\n",
            "Address: 123 Elm St, Springfield\n",
            "Price: $250000\n",
            "\n",
            "Mansion Details:\n",
            "Address: 456 Oak Ave, Beverly Hills\n",
            "Price: $5000000\n",
            "Number of Rooms: 10\n"
          ]
        }
      ]
    }
  ]
}